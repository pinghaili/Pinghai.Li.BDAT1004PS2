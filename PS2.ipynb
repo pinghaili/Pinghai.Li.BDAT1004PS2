{
 "cells": [
  {
   "cell_type": "markdown",
   "id": "22b72c2e",
   "metadata": {},
   "source": [
    "## Question 1"
   ]
  },
  {
   "cell_type": "code",
   "execution_count": 10,
   "id": "a524f17f",
   "metadata": {},
   "outputs": [
    {
     "name": "stdout",
     "output_type": "stream",
     "text": [
      "6\n"
     ]
    }
   ],
   "source": [
    "a = 0 \n",
    " \n",
    "def b(): \n",
    "    global a \n",
    "    a = c(a) \n",
    " \n",
    "def c(a): \n",
    "    return a + 2 \n",
    "\n",
    "b() \n",
    "b() \n",
    "b() \n",
    "print(a) \n",
    "\n",
    "# every time execute the b function will call the global a \n",
    "# and transfer into c function and add 2,\n",
    "# so after execute 3 times, a will be 6"
   ]
  },
  {
   "cell_type": "markdown",
   "id": "29ba6948",
   "metadata": {},
   "source": [
    "## Question 2"
   ]
  },
  {
   "cell_type": "code",
   "execution_count": 11,
   "id": "56b8efa8",
   "metadata": {},
   "outputs": [
    {
     "name": "stdout",
     "output_type": "stream",
     "text": [
      "123\n",
      "File Filelength222.txt not found.\n"
     ]
    }
   ],
   "source": [
    "def fileLength(filePath):\n",
    "    try:\n",
    "        with open(filePath, 'r') as file:\n",
    "            return len(file.read())\n",
    "    except:\n",
    "        return f\"File {filePath} not found.\"\n",
    "\n",
    "print(fileLength(\"Filelength.txt\"))\n",
    "print(fileLength(\"Filelength222.txt\"))"
   ]
  },
  {
   "cell_type": "markdown",
   "id": "c2a649db",
   "metadata": {},
   "source": [
    "## Question 3"
   ]
  },
  {
   "cell_type": "code",
   "execution_count": 12,
   "id": "4990a6f0",
   "metadata": {},
   "outputs": [
    {
     "name": "stdout",
     "output_type": "stream",
     "text": [
      "['doll', 'firetruck', 'kitten']\n"
     ]
    }
   ],
   "source": [
    "class Marsupial:\n",
    "    def __init__(self) -> None:\n",
    "        self.storage = []\n",
    "\n",
    "    def put_in_pouch(self, text):\n",
    "        self.storage.append(text)\n",
    "\n",
    "    def pouch_contents(self):\n",
    "        print(self.storage)\n",
    "\n",
    "\n",
    "m = Marsupial()\n",
    "m.put_in_pouch('doll')\n",
    "m.put_in_pouch('firetruck')\n",
    "m.put_in_pouch('kitten')\n",
    "m.pouch_contents()"
   ]
  },
  {
   "cell_type": "markdown",
   "id": "a570dc39",
   "metadata": {},
   "source": [
    "## Question 4"
   ]
  },
  {
   "cell_type": "code",
   "execution_count": 13,
   "id": "88ed4dd0",
   "metadata": {},
   "outputs": [
    {
     "name": "stdout",
     "output_type": "stream",
     "text": [
      "10\n",
      "5\n",
      "16\n",
      "8\n",
      "4\n",
      "2\n",
      "1\n"
     ]
    }
   ],
   "source": [
    "def collatz(x):\n",
    "    print(x)\n",
    "    if(x == 1):\n",
    "        return\n",
    "    \n",
    "    if(x % 2 == 0):\n",
    "        collatz(x // 2)\n",
    "    else:\n",
    "        collatz(3 * x + 1)\n",
    "\n",
    "collatz(10)"
   ]
  },
  {
   "cell_type": "markdown",
   "id": "6e669313",
   "metadata": {},
   "source": [
    "## Question 5"
   ]
  },
  {
   "cell_type": "code",
   "execution_count": 14,
   "id": "92a7f910",
   "metadata": {},
   "outputs": [
    {
     "name": "stdout",
     "output_type": "stream",
     "text": [
      "1110"
     ]
    }
   ],
   "source": [
    "def binary(n):\n",
    "    if(n < 2):\n",
    "        print(n, end='')\n",
    "    else:\n",
    "        binary(n // 2)\n",
    "        print(n % 2, end='')  \n",
    "\n",
    "binary(14)"
   ]
  },
  {
   "cell_type": "markdown",
   "id": "06a0ab45",
   "metadata": {},
   "source": [
    "## Question 6"
   ]
  },
  {
   "cell_type": "code",
   "execution_count": 15,
   "id": "dd54f87e",
   "metadata": {},
   "outputs": [
    {
     "name": "stdout",
     "output_type": "stream",
     "text": [
      "W3C Mission\n",
      " Principles\n"
     ]
    }
   ],
   "source": [
    "import re\n",
    "\n",
    "class HeadingParser:\n",
    "    def __init__(self) -> None:\n",
    "        pass\n",
    "\n",
    "    def feed(self, content):\n",
    "        h1 = re.search(r'<h1>(.*)<\\/h1>', content)\n",
    "        if(h1):\n",
    "            print(h1.group(1))\n",
    "\n",
    "        h2 = re.search(r'<h2>(.*)<\\/h2>', content)\n",
    "        if(h2):\n",
    "            print(' ' + h2.group(1))\n",
    "\n",
    "\n",
    "infile = open('w3c.html') \n",
    "content = infile.read() \n",
    "infile.close() \n",
    "hp = HeadingParser() \n",
    "hp.feed(content)"
   ]
  },
  {
   "cell_type": "markdown",
   "id": "62c814b7",
   "metadata": {},
   "source": [
    "## Question 7"
   ]
  },
  {
   "cell_type": "code",
   "execution_count": 16,
   "id": "3f36d342",
   "metadata": {},
   "outputs": [
    {
     "name": "stdout",
     "output_type": "stream",
     "text": [
      "https://www.georgiancollege.ca/\n",
      "    https://georgianatilac.com/\n",
      "    https://portal.georgiancollege.ca\n",
      "    https://library.georgiancollege.ca/main\n",
      "        http://www.georgiancollege.ca/\n",
      "        http://library.georgiancollege.ca\n",
      "        http://library.georgiancollege.ca/hours\n",
      "        http://library.georgiancollege.ca/resources\n",
      "        https://georgian.primo.exlibrisgroup.com/discovery/search?vid=01OCLS_GEORG:GEORG\n",
      "        https://library.georgiancollege.ca/er.php\n",
      "        http://library.georgiancollege.ca/az.php\n",
      "        http://library.georgiancollege.ca/guides\n",
      "        http://library.georgiancollege.ca/video_streaming\n",
      "        http://library.georgiancollege.ca/services\n",
      "        https://library.georgiancollege.ca/services/atlibrary\n",
      "        https://bookings.georgiancollege.ca/portal/\n",
      "        https://library.georgiancollege.ca/services/printing\n",
      "        https://library.georgiancollege.ca/doingresearch\n",
      "        https://library.georgiancollege.ca/copyright-at-georgian\n",
      "        https://library.georgiancollege.ca/interlibrary_loan \n",
      "        http://library.georgiancollege.ca/services/accessibility\n",
      "        http://library.georgiancollege.ca/staff_faculty\n",
      "        http://www.georgiancollege.ca/form/schedule-library-orientation/\n",
      "        http://library.georgiancollege.ca/staff_faculty/ereserves\n",
      "        http://library.georgiancollege.ca/oer\n",
      "        http://library.georgiancollege.ca/lakehead\n",
      "        http://library.georgiancollege.ca/services/alumni_community\n",
      "        http://library.georgiancollege.ca/help\n",
      "        http://library.georgiancollege.ca/writing_centre\n",
      "        http://library.georgiancollege.ca/tutoring\n",
      "        http://library.georgiancollege.ca/math_centre\n",
      "        http://library.georgiancollege.ca/citing\n",
      "        https://library.georgiancollege.ca/troubleshooting\n",
      "        https://library.georgiancollege.ca/faqs\n",
      "        https://library.georgiancollege.ca/troubleshooting\n",
      "        https://library.georgiancollege.ca/linking/stablelinks\n",
      "        https://library.georgiancollege.ca/ebookhelp\n",
      "        https://library.georgiancollege.ca/dboncampus\n",
      "        https://library.georgiancollege.ca/doingresearch\n",
      "        http://library.georgiancollege.ca/about\n",
      "        https://library.georgiancollege.ca/help/contact-academic-success\n",
      "        https://library.georgiancollege.ca/services/contact-library\n",
      "        http://library.georgiancollege.ca/about\n",
      "        http://library.georgiancollege.ca/about/policies\n",
      "        https://library.georgiancollege.ca/Staff-Directory\n",
      "        http://www.georgiancollege.ca\n",
      "        https://library.georgiancollege.ca/\n",
      "        https://library.georgiancollege.ca/welcome-online\n",
      "        https://library.georgiancollege.ca/hours\n",
      "        https://georgian.primo.exlibrisgroup.com/discovery/search?vid=01OCLS_GEORG:GEORG&amp;mode=advanced\n",
      "        http://library.georgiancollege.ca/hours\n",
      "        https://library.georgiancollege.ca/citing\n",
      "        https://library.georgiancollege.ca/az.php\n",
      "        https://library.georgiancollege.ca/er.php?b=i\n",
      "        https://web.penjiapp.com/schools/georgian\n",
      "        https://georgiancollege.libwizard.com/f/submit-a-paper\n",
      "        https://library.georgiancollege.ca/writing_centre/LanguageHelp\n",
      "        https://library.georgiancollege.ca/writing_centre\n",
      "        https://web.penjiapp.com/schools/georgian\n",
      "        https://web.penjiapp.com/schools/georgian\n",
      "        https://library.georgiancollege.ca/tutoring\n",
      "        https://web.penjiapp.com/schools/georgian\n",
      "        https://library.georgiancollege.ca/math_centre/tools\n",
      "        https://library.georgiancollege.ca/math_centre\n",
      "        https://library.georgiancollege.ca/guides\n",
      "        https://library.georgiancollege.ca/doingresearch/intro\n",
      "        https://library.georgiancollege.ca/doingresearch/research-help\n",
      "        https://www.georgiancollege.ca\n",
      "        https://georgiancollege.libapps.com/libapps/login.php?site_id=351&target64=L2xpYmd1aWRlcy9hZG1pbl9jLnBocD9nPTcxNjUzMiZwPTUxMDkxNzA=\n",
      "    https://portal.georgiancollege.ca\n",
      "    https://info.georgiancollege.ca/StillTimeToApply\n",
      "        https://www.georgiancollege.ca/future-students/\n",
      "        https://www.georgiancollege.ca/academics/programs/college-foundations/\n",
      "        https://www.georgiancollege.ca/academics/programs/college-foundations/\n",
      "        https://www.georgiancollege.ca/academics/programs/construction-techniques/\n",
      "        https://www.georgiancollege.ca/academics/programs/construction-techniques/\n",
      "        https://www.georgiancollege.ca/academics/programs/general-arts-science-liberal-studies-foundation/\n",
      "        https://www.georgiancollege.ca/academics/programs/general-arts-science-liberal-studies-foundation/\n",
      "        https://www.georgiancollege.ca/academics/programs/pre-health-sciences/\n",
      "        https://www.georgiancollege.ca/academics/programs/pre-health-sciences/\n",
      "        https://www.ontariocolleges.ca/en/colleges/georgian?q=&amp;page=0&amp;by%5BIntakeAvailabilityEnglish%5D%5B0%5D=Open&amp;hFR%5BIntakeStartDateHierarchyMonthNameEnglish.lvl0%5D%5B0%5D=Aug%202023%20-%20Nov%202023%20%28Fall%29%7CSep%202023#programs\n",
      "        https://www.georgiancollege.ca/careermatch/#take-the-quiz\n",
      "        https://www.georgiancollege.ca/about-georgian/contact-us/student-recruitment-team/#resources\n",
      "        https://www.georgiancollege.ca/about-georgian/contact-us/student-recruitment-team/#resources\n",
      "        https://www.georgiancollege.ca/news-events/all-events/get-to-know-georgian/\n",
      "        https://www.georgiancollege.ca/news-events/all-events/get-to-know-georgian/\n",
      "        https://www.georgiancollege.ca/about-georgian/visit-us/campus-tours/\n",
      "        https://www.georgiancollege.ca/about-georgian/visit-us/campus-tours/\n",
      "        https://www.georgiancollege.ca/news-events/all-events/phone-appointments/\n",
      "        https://www.georgiancollege.ca/news-events/all-events/phone-appointments/\n",
      "        https://www.georgiancollege.ca/about-georgian/contact-us/mailing-list/\n",
      "        https://www.georgiancollege.ca/about-georgian/contact-us/mailing-list/\n",
      "        https://www.georgiancollege.ca/future-students/\n",
      "        https://www.georgiancollege.ca/privacy-policy/\n",
      "    https://info.georgiancollege.ca/StillTimeToApply\n",
      "        https://www.georgiancollege.ca/future-students/\n",
      "        https://www.georgiancollege.ca/academics/programs/college-foundations/\n",
      "        https://www.georgiancollege.ca/academics/programs/college-foundations/\n",
      "        https://www.georgiancollege.ca/academics/programs/construction-techniques/\n",
      "        https://www.georgiancollege.ca/academics/programs/construction-techniques/\n",
      "        https://www.georgiancollege.ca/academics/programs/general-arts-science-liberal-studies-foundation/\n",
      "        https://www.georgiancollege.ca/academics/programs/general-arts-science-liberal-studies-foundation/\n",
      "        https://www.georgiancollege.ca/academics/programs/pre-health-sciences/\n",
      "        https://www.georgiancollege.ca/academics/programs/pre-health-sciences/\n",
      "        https://www.ontariocolleges.ca/en/colleges/georgian?q=&amp;page=0&amp;by%5BIntakeAvailabilityEnglish%5D%5B0%5D=Open&amp;hFR%5BIntakeStartDateHierarchyMonthNameEnglish.lvl0%5D%5B0%5D=Aug%202023%20-%20Nov%202023%20%28Fall%29%7CSep%202023#programs\n",
      "        https://www.georgiancollege.ca/careermatch/#take-the-quiz\n",
      "        https://www.georgiancollege.ca/about-georgian/contact-us/student-recruitment-team/#resources\n",
      "        https://www.georgiancollege.ca/about-georgian/contact-us/student-recruitment-team/#resources\n",
      "        https://www.georgiancollege.ca/news-events/all-events/get-to-know-georgian/\n",
      "        https://www.georgiancollege.ca/news-events/all-events/get-to-know-georgian/\n",
      "        https://www.georgiancollege.ca/about-georgian/visit-us/campus-tours/\n",
      "        https://www.georgiancollege.ca/about-georgian/visit-us/campus-tours/\n",
      "        https://www.georgiancollege.ca/news-events/all-events/phone-appointments/\n",
      "        https://www.georgiancollege.ca/news-events/all-events/phone-appointments/\n",
      "        https://www.georgiancollege.ca/about-georgian/contact-us/mailing-list/\n",
      "        https://www.georgiancollege.ca/about-georgian/contact-us/mailing-list/\n",
      "        https://www.georgiancollege.ca/future-students/\n",
      "        https://www.georgiancollege.ca/privacy-policy/\n",
      "    http://georgiancollege.uberflip.com/i/1504196-georgian-college-viewbook-2024-2025/\n",
      "        http://georgiancollege.uberflip.com/i/1504196\n",
      "        http://georgiancollege.uberflip.com/i/1504196/1\n",
      "        http://georgiancollege.uberflip.com/i/1504196/95\n",
      "        http://georgiancollege.uberflip.com/i/1504196/0\n",
      "        http://georgiancollege.uberflip.com/read/archives/i/66486/1504196\n",
      "    http://georgiancollege.uberflip.com/i/1504196-georgian-college-viewbook-2024-2025/\n",
      "        http://georgiancollege.uberflip.com/i/1504196\n",
      "        http://georgiancollege.uberflip.com/i/1504196/1\n",
      "        http://georgiancollege.uberflip.com/i/1504196/95\n",
      "        http://georgiancollege.uberflip.com/i/1504196/0\n",
      "        http://georgiancollege.uberflip.com/read/archives/i/66486/1504196\n",
      "    https://georgiancollege.sharepoint.com/sites/gcPortal/SitePages/Home.aspx\n",
      "    https://twitter.com/georgiancollege\n",
      "        https://help.twitter.com/using-twitter/twitter-supported-browsers\n",
      "        https://twitter.com/tos\n",
      "        https://twitter.com/privacy\n",
      "        https://support.twitter.com/articles/20170514\n",
      "        https://legal.twitter.com/imprint.html\n",
      "        https://business.twitter.com/en/help/troubleshooting/how-twitter-ads-work.html?ref=web-twc-ao-gbl-adsinfo&utm_source=twc&utm_medium=web&utm_campaign=ao&utm_content=adsinfo\n",
      "    https://www.facebook.com/GeorgianCollege\n",
      "    http://www.youtube.com/georgianvideos\n",
      "        https://www.youtube.com/about/\n",
      "        https://www.youtube.com/about/press/\n",
      "        https://www.youtube.com/about/copyright/\n",
      "        https://www.youtube.com/creators/\n",
      "        https://www.youtube.com/ads/\n",
      "        https://developers.google.com/youtube\n",
      "        https://www.youtube.com/about/policies/\n",
      "        https://www.youtube.com/howyoutubeworks?utm_campaign=ytgen&amp;utm_source=ythp&amp;utm_medium=LeftNav&amp;utm_content=txt&amp;u=https%3A%2F%2Fwww.youtube.com%2Fhowyoutubeworks%3Futm_source%3Dythp%26utm_medium%3DLeftNav%26utm_campaign%3Dytgen\n",
      "    http://instagram.com/georgiancollege\n",
      "    https://www.linkedin.com/school/2409/\n"
     ]
    }
   ],
   "source": [
    "from urllib.parse import urljoin, urlparse\n",
    "import requests\n",
    "import re\n",
    "\n",
    "def webdir(url, depth, indent):\n",
    "    print(\" \" * indent + url)\n",
    "\n",
    "    try:\n",
    "        response = requests.get(url)\n",
    "    except:\n",
    "        return\n",
    "\n",
    "    html = response.text\n",
    "\n",
    "    links = re.findall(r\"<a\\s+(?:[^>]*?\\s+)?href=[\\\"']([^\\\"']*)[\\\"']\", html)\n",
    "    if(depth > 0):\n",
    "        for link in links:\n",
    "            try:\n",
    "                result = urlparse(link)\n",
    "                if(all([result.scheme, result.netloc])):\n",
    "                    full_link = urljoin(url, link)\n",
    "                    webdir(full_link, depth - 1, indent + 4)\n",
    "            except:\n",
    "                return\n",
    "\n",
    "webdir('https://www.georgiancollege.ca/', 2, 0)"
   ]
  },
  {
   "cell_type": "markdown",
   "id": "54e1f739",
   "metadata": {},
   "source": [
    "## Question 8"
   ]
  },
  {
   "cell_type": "code",
   "execution_count": 21,
   "id": "c5b78367",
   "metadata": {
    "vscode": {
     "languageId": "sql"
    }
   },
   "outputs": [
    {
     "ename": "SyntaxError",
     "evalue": "unmatched ')' (3925348839.py, line 1)",
     "output_type": "error",
     "traceback": [
      "\u001b[0;36m  Cell \u001b[0;32mIn[21], line 1\u001b[0;36m\u001b[0m\n\u001b[0;31m    -- a) All the temperature data.\u001b[0m\n\u001b[0m        ^\u001b[0m\n\u001b[0;31mSyntaxError\u001b[0m\u001b[0;31m:\u001b[0m unmatched ')'\n"
     ]
    }
   ],
   "source": [
    "-- a) All the temperature data. \n",
    "SELECT Temperature FROM Weather;\n",
    "\n",
    "-- b) All the cities, but without repetition. \n",
    "SELECT DISTINCT City FROM Weather;\n",
    "\n",
    "-- c) All the records for India. \n",
    "SELECT * FROM Weather WHERE Country = 'India';\n",
    "\n",
    "-- d) All the Fall records. \n",
    "SELECT * FROM Weather WHERE Season = 'Fall';\n",
    "\n",
    "-- e) The city, country, and season for which the average rainfall is between 200 \n",
    "-- and 400 millimeters. \n",
    "SELECT City, Country, Season FROM Weather\n",
    "WHERE Rainfall BETWEEN 200 AND 400;\n",
    "\n",
    "-- f) The city and country for which the average Fall temperature is above 20 \n",
    "-- degrees, in increasing temperature order. \n",
    "SELECT City, Country FROM Weather\n",
    "WHERE Season = 'Fall' AND Temperature > 20\n",
    "ORDER BY Temperature ASC;\n",
    "\n",
    "-- g) The total annual rainfall for Cairo. \n",
    "SELECT SUM(Rainfall) AS Total_Annual_Rainfall FROM Weather\n",
    "WHERE City = 'Cairo';\n",
    "\n",
    "-- h) The total rainfall for each season.\n",
    "SELECT Season, SUM(Rainfall) AS Total_Rainfall FROM Weather\n",
    "GROUP BY Season;"
   ]
  },
  {
   "cell_type": "markdown",
   "id": "df1daf42",
   "metadata": {},
   "source": [
    "## Question 9"
   ]
  },
  {
   "cell_type": "code",
   "execution_count": null,
   "id": "192a5382",
   "metadata": {},
   "outputs": [
    {
     "name": "stdout",
     "output_type": "stream",
     "text": [
      "['THE', 'QUICK', 'BROWN', 'FOX', 'JUMPS', 'OVER', 'THE', 'LAZY', 'DOG']\n",
      "['the', 'quick', 'brown', 'fox', 'jumps', 'over', 'the', 'lazy', 'dog']\n",
      "[3, 5, 5, 3, 5, 4, 3, 4, 3]\n",
      "[['THE', 'the', 3], ['QUICK', 'quick', 5], ['BROWN', 'brown', 5], ['FOX', 'fox', 3], ['JUMPS', 'jumps', 5], ['OVER', 'over', 4], ['THE', 'the', 3], ['LAZY', 'lazy', 4], ['DOG', 'dog', 3]]\n",
      "['quick', 'brown', 'jumps', 'over', 'lazy']\n"
     ]
    }
   ],
   "source": [
    "words = ['The', 'quick', 'brown', 'fox', 'jumps', 'over', 'the', 'lazy', 'dog']\n",
    "\n",
    "# a)\n",
    "uppercase_words = [word.upper() for word in words]\n",
    "print(uppercase_words)\n",
    "\n",
    "# b)\n",
    "lowercase_words = [word.lower() for word in words]\n",
    "print(lowercase_words)\n",
    "\n",
    "# c)\n",
    "word_lengths = [len(word) for word in words]\n",
    "print(word_lengths)\n",
    "\n",
    "# d)\n",
    "words_details = [[word.upper(), word.lower(), len(word)] for word in words]\n",
    "print(words_details)\n",
    "\n",
    "# e)\n",
    "words_four_or_more = [word for word in words if len(word) >= 4]\n",
    "print(words_four_or_more)\n"
   ]
  }
 ],
 "metadata": {
  "kernelspec": {
   "display_name": "Python 3 (ipykernel)",
   "language": "python",
   "name": "python3"
  },
  "language_info": {
   "codemirror_mode": {
    "name": "ipython",
    "version": 3
   },
   "file_extension": ".py",
   "mimetype": "text/x-python",
   "name": "python",
   "nbconvert_exporter": "python",
   "pygments_lexer": "ipython3",
   "version": "3.11.5"
  }
 },
 "nbformat": 4,
 "nbformat_minor": 5
}
