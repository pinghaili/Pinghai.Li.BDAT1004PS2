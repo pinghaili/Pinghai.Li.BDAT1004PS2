{
 "cells": [
  {
   "cell_type": "markdown",
   "id": "22b72c2e",
   "metadata": {},
   "source": [
    "## Question 1\n",
    "What data type is each of the following (evaluate where necessary)?"
   ]
  },
  {
   "cell_type": "code",
   "execution_count": null,
   "id": "a524f17f",
   "metadata": {},
   "outputs": [],
   "source": [
    "5        \n",
    "# int\n",
    "\n",
    "5.0      \n",
    "# float\n",
    "\n",
    "(5 > 1) == True  \n",
    "# bool\n",
    "\n",
    "'5'      \n",
    "# str\n",
    "\n",
    "5 * 2 == 10   \n",
    "// int\n",
    "\n",
    "'5' * 2 == '55'\n",
    "// str \n",
    "\n",
    "'5' + '2' == '52'\n",
    "// str\n",
    "\n",
    "5 / 2 == 2.5\n",
    "// float\n",
    "\n",
    "5 % 2 == 1\n",
    "// int\n",
    "\n",
    "{5, 2, 1}\n",
    "// set\n",
    "\n",
    "(5 == 3) == False\n",
    "// bool\n",
    "\n",
    "import math\n",
    "math.pi\n",
    "// Pi (the number)\n",
    "// float"
   ]
  },
  {
   "cell_type": "markdown",
   "id": "29ba6948",
   "metadata": {},
   "source": [
    "## Question 2"
   ]
  },
  {
   "cell_type": "code",
   "execution_count": null,
   "id": "56b8efa8",
   "metadata": {},
   "outputs": [],
   "source": [
    "// a. How many letters are there in 'Supercalifragilisticexpialidocious'?\n"
   ]
  },
  {
   "cell_type": "code",
   "execution_count": null,
   "id": "21eaf9aa",
   "metadata": {},
   "outputs": [],
   "source": []
  },
  {
   "cell_type": "code",
   "execution_count": null,
   "id": "0f03f55e",
   "metadata": {},
   "outputs": [],
   "source": []
  }
 ],
 "metadata": {
  "kernelspec": {
   "display_name": "Python 3 (ipykernel)",
   "language": "python",
   "name": "python3"
  },
  "language_info": {
   "codemirror_mode": {
    "name": "ipython",
    "version": 3
   },
   "file_extension": ".py",
   "mimetype": "text/x-python",
   "name": "python",
   "nbconvert_exporter": "python",
   "pygments_lexer": "ipython3",
   "version": "3.11.5"
  }
 },
 "nbformat": 4,
 "nbformat_minor": 5
}
